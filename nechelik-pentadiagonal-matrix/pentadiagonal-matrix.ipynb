{
 "cells": [
  {
   "cell_type": "code",
   "execution_count": 342,
   "metadata": {
    "collapsed": true
   },
   "outputs": [],
   "source": [
    "import pandas as pd\n",
    "import numpy as np"
   ]
  },
  {
   "cell_type": "code",
   "execution_count": 343,
   "metadata": {
    "collapsed": false
   },
   "outputs": [],
   "source": [
    "def myarray(nx, ny):\n",
    "    NX = nx\n",
    "    NY = ny\n",
    "    N = NX*NY\n",
    "    b = np.zeros(N)\n",
    "    b[0] = 1\n",
    "\n",
    "    A = np.zeros(shape=(N,N))\n",
    "    for i in range (1, N+1):\n",
    "        #print(i)\n",
    "        temp_array = np.zeros(N)\n",
    "        if (i % NX != 0): #block does have a right neighbor\n",
    "            temp_array[i-1+1] = -1\n",
    "        if(i % NX != 1): #block does have a left neighbor\n",
    "            temp_array[i-1-1] = -1\n",
    "        if (i <= NX*(NY-1)): #block does have a top neighbor\n",
    "            temp_array[i-1+nx] = -1\n",
    "        if (i > NX): #block does have a bottom neighbor\n",
    "            temp_array[i-1-NX] = -1\n",
    "        temp_array[i-1] = abs(sum((temp_array)))\n",
    "        A[i-1] = temp_array\n",
    "    A[0][0] = 3  \n",
    "    print(\"\\nA is:\")\n",
    "    print(A)\n",
    "\n",
    "    #Find solution to the system of equations Ax=b\n",
    "    x = np.linalg.solve(A, b)\n",
    "    print(\"\\nx is:\")\n",
    "    print(x)\n",
    "    \n",
    "    #Check that the solution is correct:\n",
    "    #print(np.allclose(np.dot(A, x), b))"
   ]
  },
  {
   "cell_type": "code",
   "execution_count": 344,
   "metadata": {
    "collapsed": false
   },
   "outputs": [
    {
     "name": "stdout",
     "output_type": "stream",
     "text": [
      "\n",
      "A is:\n",
      "[[ 3. -1. -1.  0.  0.  0.]\n",
      " [-1.  2.  0. -1.  0.  0.]\n",
      " [-1.  0.  3. -1. -1.  0.]\n",
      " [ 0. -1. -1.  3.  0. -1.]\n",
      " [ 0.  0. -1.  0.  2. -1.]\n",
      " [ 0.  0.  0. -1. -1.  2.]]\n",
      "\n",
      "x is:\n",
      "[ 1.  1.  1.  1.  1.  1.]\n"
     ]
    }
   ],
   "source": [
    "myarray(2,3)"
   ]
  },
  {
   "cell_type": "code",
   "execution_count": 345,
   "metadata": {
    "collapsed": false
   },
   "outputs": [
    {
     "name": "stdout",
     "output_type": "stream",
     "text": [
      "\n",
      "A is:\n",
      "[[ 3. -1.  0. -1.  0.  0.]\n",
      " [-1.  3. -1.  0. -1.  0.]\n",
      " [ 0. -1.  2.  0.  0. -1.]\n",
      " [-1.  0.  0.  2. -1.  0.]\n",
      " [ 0. -1.  0. -1.  3. -1.]\n",
      " [ 0.  0. -1.  0. -1.  2.]]\n",
      "\n",
      "x is:\n",
      "[ 1.  1.  1.  1.  1.  1.]\n"
     ]
    }
   ],
   "source": [
    "myarray(3,2)"
   ]
  },
  {
   "cell_type": "code",
   "execution_count": 346,
   "metadata": {
    "collapsed": false
   },
   "outputs": [
    {
     "name": "stdout",
     "output_type": "stream",
     "text": [
      "\n",
      "A is:\n",
      "[[ 3. -1.  0. -1.  0.  0.  0.  0.  0.]\n",
      " [-1.  3. -1.  0. -1.  0.  0.  0.  0.]\n",
      " [ 0. -1.  2.  0.  0. -1.  0.  0.  0.]\n",
      " [-1.  0.  0.  3. -1.  0. -1.  0.  0.]\n",
      " [ 0. -1.  0. -1.  4. -1.  0. -1.  0.]\n",
      " [ 0.  0. -1.  0. -1.  3.  0.  0. -1.]\n",
      " [ 0.  0.  0. -1.  0.  0.  2. -1.  0.]\n",
      " [ 0.  0.  0.  0. -1.  0. -1.  3. -1.]\n",
      " [ 0.  0.  0.  0.  0. -1.  0. -1.  2.]]\n",
      "\n",
      "x is:\n",
      "[ 1.  1.  1.  1.  1.  1.  1.  1.  1.]\n"
     ]
    }
   ],
   "source": [
    "myarray(3,3)"
   ]
  },
  {
   "cell_type": "code",
   "execution_count": 347,
   "metadata": {
    "collapsed": false
   },
   "outputs": [
    {
     "name": "stdout",
     "output_type": "stream",
     "text": [
      "\n",
      "A is:\n",
      "[[ 3. -1.  0.  0. -1.  0.  0.  0.  0.  0.  0.  0.  0.  0.  0.  0.]\n",
      " [-1.  3. -1.  0.  0. -1.  0.  0.  0.  0.  0.  0.  0.  0.  0.  0.]\n",
      " [ 0. -1.  3. -1.  0.  0. -1.  0.  0.  0.  0.  0.  0.  0.  0.  0.]\n",
      " [ 0.  0. -1.  2.  0.  0.  0. -1.  0.  0.  0.  0.  0.  0.  0.  0.]\n",
      " [-1.  0.  0.  0.  3. -1.  0.  0. -1.  0.  0.  0.  0.  0.  0.  0.]\n",
      " [ 0. -1.  0.  0. -1.  4. -1.  0.  0. -1.  0.  0.  0.  0.  0.  0.]\n",
      " [ 0.  0. -1.  0.  0. -1.  4. -1.  0.  0. -1.  0.  0.  0.  0.  0.]\n",
      " [ 0.  0.  0. -1.  0.  0. -1.  3.  0.  0.  0. -1.  0.  0.  0.  0.]\n",
      " [ 0.  0.  0.  0. -1.  0.  0.  0.  3. -1.  0.  0. -1.  0.  0.  0.]\n",
      " [ 0.  0.  0.  0.  0. -1.  0.  0. -1.  4. -1.  0.  0. -1.  0.  0.]\n",
      " [ 0.  0.  0.  0.  0.  0. -1.  0.  0. -1.  4. -1.  0.  0. -1.  0.]\n",
      " [ 0.  0.  0.  0.  0.  0.  0. -1.  0.  0. -1.  3.  0.  0.  0. -1.]\n",
      " [ 0.  0.  0.  0.  0.  0.  0.  0. -1.  0.  0.  0.  2. -1.  0.  0.]\n",
      " [ 0.  0.  0.  0.  0.  0.  0.  0.  0. -1.  0.  0. -1.  3. -1.  0.]\n",
      " [ 0.  0.  0.  0.  0.  0.  0.  0.  0.  0. -1.  0.  0. -1.  3. -1.]\n",
      " [ 0.  0.  0.  0.  0.  0.  0.  0.  0.  0.  0. -1.  0.  0. -1.  2.]]\n",
      "\n",
      "x is:\n",
      "[ 1.  1.  1.  1.  1.  1.  1.  1.  1.  1.  1.  1.  1.  1.  1.  1.]\n"
     ]
    }
   ],
   "source": [
    "myarray(4,4)"
   ]
  },
  {
   "cell_type": "code",
   "execution_count": null,
   "metadata": {
    "collapsed": true
   },
   "outputs": [],
   "source": []
  }
 ],
 "metadata": {
  "anaconda-cloud": {},
  "kernelspec": {
   "display_name": "Python [Root]",
   "language": "python",
   "name": "Python [Root]"
  },
  "language_info": {
   "codemirror_mode": {
    "name": "ipython",
    "version": 3
   },
   "file_extension": ".py",
   "mimetype": "text/x-python",
   "name": "python",
   "nbconvert_exporter": "python",
   "pygments_lexer": "ipython3",
   "version": "3.5.2"
  }
 },
 "nbformat": 4,
 "nbformat_minor": 0
}
