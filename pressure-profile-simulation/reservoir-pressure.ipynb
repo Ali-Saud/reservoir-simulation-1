{
 "cells": [
  {
   "cell_type": "markdown",
   "metadata": {},
   "source": [
    "### 1.\t (40 points) Hand Problem: Solve for the reservoir pressure for a 4 grid-block system and uniform-size grid blocks and time step of 1.0 day. The permeability and porosity in the 4 blocks can be given by:\n",
    "\n",
    "\n",
    "k =  [75 100 150 125] md \n",
    "phi =  [0.15 0.20 0.25 0.22] \n",
    "\n",
    "Note: this script below is meant to verify the accuracy and help with the final calculation only. The work by hand is shown on the first page."
   ]
  },
  {
   "cell_type": "code",
   "execution_count": 190,
   "metadata": {
    "collapsed": true
   },
   "outputs": [],
   "source": [
    "import numpy as np\n",
    "from numpy.linalg import inv"
   ]
  },
  {
   "cell_type": "code",
   "execution_count": 191,
   "metadata": {
    "collapsed": false
   },
   "outputs": [],
   "source": [
    "k = np.array([75,100,150,125])\n",
    "phi = np.array([.15,.20,.25,.22])\n",
    "A = 80000 #ft^2\n",
    "Bw = 1\n",
    "Ct = 1e-5\n",
    "L = 4000 #ft\n",
    "Vi = A*L/4 #ft^3\n",
    "delta_t = 1\n",
    "delta_x = L/4\n",
    "mu = 1 #cp \n",
    "k_geometric_mean = 2*(1/k[:-1] + 1/k[1:])**-1\n",
    "half_trans = k_geometric_mean*A/(Bw*mu*delta_x)\n",
    "\n",
    "B = np.matrix(np.diag(Vi*phi*Ct/Bw))\n",
    "P0 = np.matrix([[1000]]*4)\n",
    "Q = np.matrix([[10000],[-10000],[0],[6.33e-3*2*500*10000]])\n",
    "\n",
    "bc_in = 0 #(0 for Neumann, 1 for Dirichlet)\n",
    "bc_out = 1\n",
    "Pout = 500"
   ]
  },
  {
   "cell_type": "code",
   "execution_count": 192,
   "metadata": {
    "collapsed": false
   },
   "outputs": [
    {
     "data": {
      "text/plain": [
       "array([  6857.14285714,   9600.        ,  10909.09090909])"
      ]
     },
     "execution_count": 192,
     "metadata": {},
     "output_type": "execute_result"
    }
   ],
   "source": [
    "half_trans"
   ]
  },
  {
   "cell_type": "code",
   "execution_count": 193,
   "metadata": {
    "collapsed": false
   },
   "outputs": [
    {
     "data": {
      "text/plain": [
       "array([  85.71428571,  120.        ,  136.36363636])"
      ]
     },
     "execution_count": 193,
     "metadata": {},
     "output_type": "execute_result"
    }
   ],
   "source": [
    "k_geometric_mean"
   ]
  },
  {
   "cell_type": "code",
   "execution_count": 194,
   "metadata": {
    "collapsed": false
   },
   "outputs": [
    {
     "data": {
      "text/plain": [
       "array([  6857.14285714,  16457.14285714,  20509.09090909,  30909.09090909])"
      ]
     },
     "execution_count": 194,
     "metadata": {},
     "output_type": "execute_result"
    }
   ],
   "source": [
    "half_trans_full = half_trans\n",
    "half_trans_full = np.insert(half_trans_full,0,0)\n",
    "half_trans_full = np.insert(half_trans_full,len(half_trans_full),20000)\n",
    "half_trans_full = half_trans_full[:-1] + half_trans_full[1:]\n",
    "half_trans_full"
   ]
  },
  {
   "cell_type": "code",
   "execution_count": 195,
   "metadata": {
    "collapsed": false
   },
   "outputs": [
    {
     "data": {
      "text/plain": [
       "array([  6857.14285714,   9600.        ,  10909.09090909])"
      ]
     },
     "execution_count": 195,
     "metadata": {},
     "output_type": "execute_result"
    }
   ],
   "source": [
    "half_trans"
   ]
  },
  {
   "cell_type": "code",
   "execution_count": 196,
   "metadata": {
    "collapsed": false
   },
   "outputs": [],
   "source": [
    "my_matrix = 0\n",
    "my_matrix_kplus1 = np.diag(-1*half_trans,k=1)\n",
    "my_matrix_kminus1 = np.diag(-1*half_trans,k=-1)\n",
    "my_matrix_k0 = np.diag(half_trans_full,k=0)\n",
    "\n",
    "my_matrix = my_matrix_kplus1 + my_matrix_kminus1 + my_matrix_k0\n",
    "T = my_matrix*6.33e-3"
   ]
  },
  {
   "cell_type": "code",
   "execution_count": 197,
   "metadata": {
    "collapsed": false
   },
   "outputs": [
    {
     "data": {
      "text/plain": [
       "array([[  43.40571429,  -43.40571429,    0.        ,    0.        ],\n",
       "       [ -43.40571429,  104.17371429,  -60.768     ,    0.        ],\n",
       "       [   0.        ,  -60.768     ,  129.82254545,  -69.05454545],\n",
       "       [   0.        ,    0.        ,  -69.05454545,  195.65454545]])"
      ]
     },
     "execution_count": 197,
     "metadata": {},
     "output_type": "execute_result"
    }
   ],
   "source": [
    "T"
   ]
  },
  {
   "cell_type": "code",
   "execution_count": 198,
   "metadata": {
    "collapsed": false
   },
   "outputs": [
    {
     "data": {
      "text/plain": [
       "matrix([[1000],\n",
       "        [1000],\n",
       "        [1000],\n",
       "        [1000]])"
      ]
     },
     "execution_count": 198,
     "metadata": {},
     "output_type": "execute_result"
    }
   ],
   "source": [
    "P0"
   ]
  },
  {
   "cell_type": "code",
   "execution_count": 199,
   "metadata": {
    "collapsed": false
   },
   "outputs": [
    {
     "data": {
      "text/plain": [
       "matrix([[ 10000.],\n",
       "        [-10000.],\n",
       "        [     0.],\n",
       "        [ 63300.]])"
      ]
     },
     "execution_count": 199,
     "metadata": {},
     "output_type": "execute_result"
    }
   ],
   "source": [
    "Q"
   ]
  },
  {
   "cell_type": "code",
   "execution_count": 200,
   "metadata": {
    "collapsed": false
   },
   "outputs": [
    {
     "data": {
      "text/plain": [
       "array([[  43.40571429,  -43.40571429,    0.        ,    0.        ],\n",
       "       [ -43.40571429,  104.17371429,  -60.768     ,    0.        ],\n",
       "       [   0.        ,  -60.768     ,  129.82254545,  -69.05454545],\n",
       "       [   0.        ,    0.        ,  -69.05454545,  195.65454545]])"
      ]
     },
     "execution_count": 200,
     "metadata": {},
     "output_type": "execute_result"
    }
   ],
   "source": [
    "T"
   ]
  },
  {
   "cell_type": "code",
   "execution_count": 208,
   "metadata": {
    "collapsed": false
   },
   "outputs": [
    {
     "data": {
      "text/plain": [
       "matrix([[ 120.,    0.,    0.,    0.],\n",
       "        [   0.,  160.,    0.,    0.],\n",
       "        [   0.,    0.,  200.,    0.],\n",
       "        [   0.,    0.,    0.,  176.]])"
      ]
     },
     "execution_count": 208,
     "metadata": {},
     "output_type": "execute_result"
    }
   ],
   "source": [
    "B"
   ]
  },
  {
   "cell_type": "code",
   "execution_count": 202,
   "metadata": {
    "collapsed": false
   },
   "outputs": [
    {
     "data": {
      "text/plain": [
       "matrix([[ 1050.61776482],\n",
       "        [  960.17188029],\n",
       "        [  955.26193797],\n",
       "        [  821.36807595]])"
      ]
     },
     "execution_count": 202,
     "metadata": {},
     "output_type": "execute_result"
    }
   ],
   "source": [
    "implicit = inv(T + B/delta_t)*(B*P0/delta_t + Q)\n",
    "implicit"
   ]
  },
  {
   "cell_type": "code",
   "execution_count": 201,
   "metadata": {
    "collapsed": false
   },
   "outputs": [
    {
     "data": {
      "text/plain": [
       "matrix([[ 1083.33333333],\n",
       "        [  937.5       ],\n",
       "        [ 1000.        ],\n",
       "        [  640.34090909]])"
      ]
     },
     "execution_count": 201,
     "metadata": {},
     "output_type": "execute_result"
    }
   ],
   "source": [
    "explicit = P0 + delta_t*inv(B)*(Q-T*P0)\n",
    "explicit"
   ]
  },
  {
   "cell_type": "code",
   "execution_count": 203,
   "metadata": {
    "collapsed": false
   },
   "outputs": [
    {
     "data": {
      "text/plain": [
       "matrix([[ 1063.5555162 ],\n",
       "        [  954.19949727],\n",
       "        [  964.02642943],\n",
       "        [  764.29641708]])"
      ]
     },
     "execution_count": 203,
     "metadata": {},
     "output_type": "execute_result"
    }
   ],
   "source": [
    "# Crank Nicholson\n",
    "theta = .5\n",
    "crank_nicholson = inv((1-theta)*T + B/delta_t)*((B/delta_t - theta*T )*P0 + Q)\n",
    "crank_nicholson"
   ]
  }
 ],
 "metadata": {
  "anaconda-cloud": {},
  "kernelspec": {
   "display_name": "Python [Root]",
   "language": "python",
   "name": "Python [Root]"
  },
  "language_info": {
   "codemirror_mode": {
    "name": "ipython",
    "version": 3
   },
   "file_extension": ".py",
   "mimetype": "text/x-python",
   "name": "python",
   "nbconvert_exporter": "python",
   "pygments_lexer": "ipython3",
   "version": "3.5.2"
  }
 },
 "nbformat": 4,
 "nbformat_minor": 0
}
